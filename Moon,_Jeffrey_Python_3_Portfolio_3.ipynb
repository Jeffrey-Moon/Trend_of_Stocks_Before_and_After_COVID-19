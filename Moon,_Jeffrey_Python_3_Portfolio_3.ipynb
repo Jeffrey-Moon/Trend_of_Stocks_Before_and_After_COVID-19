{
  "nbformat": 4,
  "nbformat_minor": 0,
  "metadata": {
    "colab": {
      "name": "Moon, Jeffrey.ipynb",
      "provenance": [],
      "authorship_tag": "ABX9TyM9dctw6y5YQqt13l/bhatz",
      "include_colab_link": true
    },
    "kernelspec": {
      "name": "python3",
      "display_name": "Python 3"
    }
  },
  "cells": [
    {
      "cell_type": "markdown",
      "metadata": {
        "id": "view-in-github",
        "colab_type": "text"
      },
      "source": [
        "<a href=\"https://colab.research.google.com/github/Jeffrey-Moon/Trend_of_Stocks_Before_and_After_COVID-19/blob/master/Moon%2C_Jeffrey_Python_3_Portfolio_3.ipynb\" target=\"_parent\"><img src=\"https://colab.research.google.com/assets/colab-badge.svg\" alt=\"Open In Colab\"/></a>"
      ]
    },
    {
      "cell_type": "code",
      "metadata": {
        "colab": {
          "base_uri": "https://localhost:8080/"
        },
        "id": "F10KsZYdTZXN",
        "outputId": "d8a53123-2414-454a-8da0-ef4571395a5c"
      },
      "source": [
        "from google.colab import drive\n",
        "drive.mount(\"/content/drive\")"
      ],
      "execution_count": 16,
      "outputs": [
        {
          "output_type": "stream",
          "text": [
            "Mounted at /content/drive\n"
          ],
          "name": "stdout"
        }
      ]
    },
    {
      "cell_type": "code",
      "metadata": {
        "id": "l5F9bpsgWU61"
      },
      "source": [
        "import pandas as pd"
      ],
      "execution_count": 17,
      "outputs": []
    },
    {
      "cell_type": "code",
      "metadata": {
        "id": "a2mUJZIhTLvz",
        "colab": {
          "base_uri": "https://localhost:8080/"
        },
        "outputId": "bc8157bd-f9e1-43c4-9c95-5d036def6a09"
      },
      "source": [
        "!ls"
      ],
      "execution_count": 18,
      "outputs": [
        {
          "output_type": "stream",
          "text": [
            "drive  sample_data\n"
          ],
          "name": "stdout"
        }
      ]
    },
    {
      "cell_type": "code",
      "metadata": {
        "id": "zO82SiRJT-y2",
        "colab": {
          "base_uri": "https://localhost:8080/",
          "height": 35
        },
        "outputId": "e888daf4-0fad-4a99-9d99-99b996e945f8"
      },
      "source": [
        "%pwd"
      ],
      "execution_count": 19,
      "outputs": [
        {
          "output_type": "execute_result",
          "data": {
            "application/vnd.google.colaboratory.intrinsic+json": {
              "type": "string"
            },
            "text/plain": [
              "'/content'"
            ]
          },
          "metadata": {
            "tags": []
          },
          "execution_count": 19
        }
      ]
    },
    {
      "cell_type": "code",
      "metadata": {
        "id": "d5CL8wyyUDgS",
        "colab": {
          "base_uri": "https://localhost:8080/"
        },
        "outputId": "b7bc9a1d-4833-4885-b94a-63f128333c94"
      },
      "source": [
        "%ls"
      ],
      "execution_count": 20,
      "outputs": [
        {
          "output_type": "stream",
          "text": [
            "\u001b[0m\u001b[01;34mdrive\u001b[0m/  \u001b[01;34msample_data\u001b[0m/\n"
          ],
          "name": "stdout"
        }
      ]
    },
    {
      "cell_type": "code",
      "metadata": {
        "id": "Qn-I4nyfUFry",
        "colab": {
          "base_uri": "https://localhost:8080/"
        },
        "outputId": "1c883231-b585-476d-b4cf-d7a740702124"
      },
      "source": [
        "%cd drive/"
      ],
      "execution_count": 21,
      "outputs": [
        {
          "output_type": "stream",
          "text": [
            "/content/drive\n"
          ],
          "name": "stdout"
        }
      ]
    },
    {
      "cell_type": "code",
      "metadata": {
        "id": "T-xqGGrkUKwv",
        "colab": {
          "base_uri": "https://localhost:8080/",
          "height": 35
        },
        "outputId": "989df0d8-ccde-4730-cb90-ab5999e97219"
      },
      "source": [
        "%pwd"
      ],
      "execution_count": 22,
      "outputs": [
        {
          "output_type": "execute_result",
          "data": {
            "application/vnd.google.colaboratory.intrinsic+json": {
              "type": "string"
            },
            "text/plain": [
              "'/content/drive'"
            ]
          },
          "metadata": {
            "tags": []
          },
          "execution_count": 22
        }
      ]
    },
    {
      "cell_type": "code",
      "metadata": {
        "id": "F13MoW3AUhq3",
        "colab": {
          "base_uri": "https://localhost:8080/"
        },
        "outputId": "1b1bfc17-8d05-4d84-af62-75c2207c4d99"
      },
      "source": [
        "%ls"
      ],
      "execution_count": 23,
      "outputs": [
        {
          "output_type": "stream",
          "text": [
            "\u001b[0m\u001b[01;34mMyDrive\u001b[0m/\n"
          ],
          "name": "stdout"
        }
      ]
    },
    {
      "cell_type": "code",
      "metadata": {
        "id": "ModEVoMNUQyy",
        "colab": {
          "base_uri": "https://localhost:8080/"
        },
        "outputId": "506eb849-a356-4ac2-b70d-d2bdf380cf7b"
      },
      "source": [
        "%cd My\\ Drive"
      ],
      "execution_count": 24,
      "outputs": [
        {
          "output_type": "stream",
          "text": [
            "/content/drive/My Drive\n"
          ],
          "name": "stdout"
        }
      ]
    },
    {
      "cell_type": "code",
      "metadata": {
        "id": "Ycq5Y_VYUugC",
        "colab": {
          "base_uri": "https://localhost:8080/"
        },
        "outputId": "b260a69b-9df5-400e-aa28-b921c1c36592"
      },
      "source": [
        "%cd Colab\\ Notebooks"
      ],
      "execution_count": 25,
      "outputs": [
        {
          "output_type": "stream",
          "text": [
            "/content/drive/My Drive/Colab Notebooks\n"
          ],
          "name": "stdout"
        }
      ]
    },
    {
      "cell_type": "code",
      "metadata": {
        "id": "0Q-jUnkXVCAg",
        "colab": {
          "base_uri": "https://localhost:8080/"
        },
        "outputId": "d2344612-b1e4-41b1-d5a7-8dfb468be4d5"
      },
      "source": [
        "%ls"
      ],
      "execution_count": 26,
      "outputs": [
        {
          "output_type": "stream",
          "text": [
            " 2021-03-08_Apriori.ipynb\n",
            " 2021-03-10_Vector_Diistance.ipynb\n",
            " 2021-03-12_TF-IDF_2.ipynb\n",
            " 2021-03-12_TF-IDF.ipynb\n",
            " 2021-03-17_Torch_Basic.ipynb\n",
            " 2021-03-19_MNIST.ipynb\n",
            " 2021-03-19_Torch_Class.ipynb\n",
            " 2021-03-23_Implementation.ipynb\n",
            "'Class 1'\n",
            "'Class 2'\n",
            "'Class 3'\n",
            "'Class 4'\n",
            "'Class 5.ipynb'\n",
            "'Class 6'\n",
            "'Moon, Jeffrey - Python 3 Portfolio 3.ipynb'\n",
            "'Moon, Jeffrey - Python 3 Portfolio Part 1'\n",
            "'Moon, Jeffrey - Python 3 Portfolio Part 2'\n",
            " \u001b[0m\u001b[01;34mnotebook_files\u001b[0m/\n",
            " owid-covid-data.csv\n",
            " Untitled0.ipynb\n"
          ],
          "name": "stdout"
        }
      ]
    },
    {
      "cell_type": "code",
      "metadata": {
        "id": "1eM74VCLVASg"
      },
      "source": [
        "world_wide_corona = pd.read_csv('owid-covid-data.csv')"
      ],
      "execution_count": 27,
      "outputs": []
    },
    {
      "cell_type": "code",
      "metadata": {
        "id": "p-MvT_SZXESP",
        "colab": {
          "base_uri": "https://localhost:8080/"
        },
        "outputId": "37bc017c-cd51-4543-8c18-4c56ae3ee918"
      },
      "source": [
        "world_wide_corona[world_wide_corona['location']=='World']['total_cases']"
      ],
      "execution_count": 28,
      "outputs": [
        {
          "output_type": "execute_result",
          "data": {
            "text/plain": [
              "39213          27.0\n",
              "39214          27.0\n",
              "39215          27.0\n",
              "39216          44.0\n",
              "39217          44.0\n",
              "            ...    \n",
              "39448    22970370.0\n",
              "39449    23236838.0\n",
              "39450    23461327.0\n",
              "39451    23681358.0\n",
              "39452    23928539.0\n",
              "Name: total_cases, Length: 240, dtype: float64"
            ]
          },
          "metadata": {
            "tags": []
          },
          "execution_count": 28
        }
      ]
    },
    {
      "cell_type": "code",
      "metadata": {
        "id": "HvjpuW-EYqoM",
        "colab": {
          "base_uri": "https://localhost:8080/",
          "height": 439
        },
        "outputId": "a6cafa8c-6a87-47b4-eaa1-d1a1bb6fdd90"
      },
      "source": [
        "import matplotlib.pyplot as plt\n",
        "import matplotlib as mpl \n",
        "from matplotlib import style\n",
        "\n",
        "mpl.rc('figure', figsize=(8, 7))\n",
        "# Use ggplot style\n",
        "style.use('ggplot')\n",
        "\n",
        "world_wide_corona[world_wide_corona['location']=='World']['total_cases'].plot(label = 'World COVID-19')\n",
        "plt.legend()\n",
        "plt.show()"
      ],
      "execution_count": 29,
      "outputs": [
        {
          "output_type": "display_data",
          "data": {
            "image/png": "[encoded data removed]",
            "text/plain": [
              "<Figure size 576x504 with 1 Axes>"
            ]
          },
          "metadata": {
            "tags": []
          }
        }
      ]
    },
    {
      "cell_type": "code",
      "metadata": {
        "id": "HcvhsHFSlV4b"
      },
      "source": [
        "# Calculate maximum drawdown\n",
        "\n",
        "def calculate_max_drawdown(adj_close, capital, stock_pct, bond_pct):\n",
        "  stock_share = capital*(stock_pct/100)/adj_close['S&P 500'][0]\n",
        "  bond_share = capital*(bond_pct/100)/adj_close['Treasury Yield 10 Years'][0]\n",
        "\n",
        "  stock_cummax = (adj_close['S&P 500']*stock_share).cummax()\n",
        "  bond_cummax = (adj_close['Treasury Yield 10 Years']*bond_share).cummax()\n",
        "  portfolio_cummax = (adj_close['Treasury Yield 10 Years']*bond_share + adj_close['S&P 500']*stock_share).cummax()\n",
        "\n",
        "  stock_delta_max = stock_cummax - (adj_close['S&P 500']*stock_share)\n",
        "  bond_delta_max = bond_cummax - (adj_close['Treasury Yield 10 Years']*bond_share)\n",
        "  portfolio_delta_max = portfolio_cummax - (adj_close['Treasury Yield 10 Years']*bond_share + adj_close['S&P 500']*stock_share)\n",
        "\n",
        "  stock_delta_max_idx = stock_delta_max.idxmax()\n",
        "  bond_delta_max_idx = bond_delta_max.idxmax()\n",
        "  portfolio_delta_max_idx = portfolio_delta_max.idxmax()\n",
        "\n",
        "  stock_max_drawdown = stock_delta_max.loc[stock_delta_max_idx]/stock_cummax.loc[stock_delta_max_idx]*100\n",
        "  bond_max_drawdown = bond_delta_max.loc[bond_delta_max_idx]/bond_cummax.loc[bond_delta_max_idx]*100\n",
        "  portfolio_max_drawdown = portfolio_delta_max.loc[portfolio_delta_max_idx]/portfolio_cummax.loc[portfolio_delta_max_idx]*100  \n",
        "\n",
        "  print('='*60)\n",
        "  print('The maximum drawdown for S&P 500 is {:.2f}%'.format(stock_max_drawdown))\n",
        "  print('The maximum drawdown for bond is {:.2f}%'.format(bond_max_drawdown))\n",
        "  print('The maximum drawdown for this portfolio is {:.2f}%'.format(portfolio_max_drawdown))\n",
        "  print('='*60, '\\n')"
      ],
      "execution_count": 30,
      "outputs": []
    },
    {
      "cell_type": "code",
      "metadata": {
        "id": "Fteno-yslm0S"
      },
      "source": [
        "# Calculate maximum drop in pct\n",
        "\n",
        "def calculate_pct_change(adj_close, capital, stock_pct, bond_pct):\n",
        "  stock_share = capital*(stock_pct/100)/adj_close['S&P 500'][0]\n",
        "  bond_share = capital*(bond_pct/100)/adj_close['Treasury Yield 10 Years'][0]\n",
        "\n",
        "  stock_max_daily_drop = (adj_close['S&P 500']*stock_share).pct_change().min()*100\n",
        "  bond_max_daily_drop = (adj_close['Treasury Yield 10 Years']*bond_share).pct_change().min()*100\n",
        "  portfolio_max_daily_drop = (adj_close['Treasury Yield 10 Years']*bond_share + adj_close['S&P 500']*stock_share).pct_change().min()*100\n",
        "\n",
        "  stock_max_drop_idx = (adj_close['S&P 500']*stock_share).pct_change().idxmin()\n",
        "  bond_max_drop_idx = (adj_close['Treasury Yield 10 Years']*bond_share).pct_change().idxmin()\n",
        "  portfolio_max_drop_idx = (adj_close['Treasury Yield 10 Years']*bond_share + adj_close['S&P 500']*stock_share).pct_change().idxmin()\n",
        "\n",
        "  print('='*60)\n",
        "  print('The maximum daily drop for S&P 500 is {:.2f}%, which happend in {}'.format(stock_max_daily_drop, stock_max_drop_idx))\n",
        "  print('The maximum daily drop for bond is {:.2f}%, which happend in {}'.format(bond_max_daily_drop, bond_max_drop_idx))\n",
        "  print('The maximum daily drop for this portfolio is {:.2f}%, which happend in {}'.format(portfolio_max_daily_drop, portfolio_max_drop_idx))\n",
        "  print('='*60, '\\n')"
      ],
      "execution_count": 31,
      "outputs": []
    }
  ]
}